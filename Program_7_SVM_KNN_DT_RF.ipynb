{
  "nbformat": 4,
  "nbformat_minor": 0,
  "metadata": {
    "colab": {
      "provenance": [],
      "authorship_tag": "ABX9TyMeBMaosixn+BC/8+kMj4wY",
      "include_colab_link": true
    },
    "kernelspec": {
      "name": "python3",
      "display_name": "Python 3"
    },
    "language_info": {
      "name": "python"
    }
  },
  "cells": [
    {
      "cell_type": "markdown",
      "metadata": {
        "id": "view-in-github",
        "colab_type": "text"
      },
      "source": [
        "<a href=\"https://colab.research.google.com/github/Nandini1230/cdssp/blob/main/Program_7_SVM_KNN_DT_RF.ipynb\" target=\"_parent\"><img src=\"https://colab.research.google.com/assets/colab-badge.svg\" alt=\"Open In Colab\"/></a>"
      ]
    },
    {
      "cell_type": "code",
      "execution_count": null,
      "metadata": {
        "id": "6_JvOnKfOAsF"
      },
      "outputs": [],
      "source": [
        "import numpy as np\n",
        "import pandas as pd\n",
        "import matplotlib.pyplot as plt\n",
        "data = pd.read_csv('Iris.csv')\n",
        "data_points = data.iloc[:, 1:5]\n",
        "labels = data.iloc[:, 5]\n",
        "from sklearn.model_selection import train_test_split\n",
        "x_train,x_test,y_train,y_test = train_test_split(data_points,labels,test_size=0.2)\n",
        "from sklearn.preprocessing import StandardScaler\n",
        "from sklearn.model_selection import cross_val_score\n",
        "Standard_obj = StandardScaler()\n",
        "Standard_obj.fit(x_train)\n",
        "x_train_std = Standard_obj.transform(x_train)\n",
        "x_test_std = Standard_obj.transform(x_test)\n"
      ]
    },
    {
      "cell_type": "code",
      "source": [
        "# SVM\n",
        "from sklearn.svm import SVC\n",
        "svm = SVC(kernel='rbf', random_state=0, gamma=.10, C=1.0)\n",
        "svm.fit(x_train_std, y_train)\n",
        "print('Training data accuracy {:.2f}'.format(svm.score(x_train_std, y_train)*100))\n",
        "print('Testing data accuracy {:.2f}'.format(svm.score(x_test_std, y_test)*100))\n"
      ],
      "metadata": {
        "colab": {
          "base_uri": "https://localhost:8080/"
        },
        "id": "zK807einOFTg",
        "outputId": "d28e0a10-bc79-45fe-e76c-a574e899196f"
      },
      "execution_count": null,
      "outputs": [
        {
          "output_type": "stream",
          "name": "stdout",
          "text": [
            "Training data accuracy 95.83\n",
            "Testing data accuracy 100.00\n"
          ]
        }
      ]
    },
    {
      "cell_type": "code",
      "source": [
        "# KNN\n",
        "from sklearn.neighbors import KNeighborsClassifier\n",
        "knn = KNeighborsClassifier(n_neighbors = 7, p = 2, metric='minkowski')\n",
        "knn.fit(x_train_std,y_train)\n",
        "print('Training data accuracy {:.2f}'.format(knn.score(x_train_std, y_train)*100))\n",
        "print('Testing data accuracy {:.2f}'.format(knn.score(x_test_std, y_test)*100))"
      ],
      "metadata": {
        "colab": {
          "base_uri": "https://localhost:8080/"
        },
        "id": "eN2JNE-RQ-kk",
        "outputId": "aa2a1a90-6fcd-420d-8f5e-7765ffac1dff"
      },
      "execution_count": null,
      "outputs": [
        {
          "output_type": "stream",
          "name": "stdout",
          "text": [
            "Training data accuracy 96.67\n",
            "Testing data accuracy 100.00\n"
          ]
        }
      ]
    },
    {
      "cell_type": "code",
      "source": [
        "# decision tree\n",
        "from sklearn import tree\n",
        "decision_tree = tree.DecisionTreeClassifier(criterion='gini')\n",
        "decision_tree.fit(x_train_std, y_train)\n",
        "print('Training data accuracy {:.2f}'.format(decision_tree.score(x_train_std, y_train)*100))\n",
        "print('Testing data accuracy {:.2f}'.format(decision_tree.score(x_test_std, y_test)*100))"
      ],
      "metadata": {
        "colab": {
          "base_uri": "https://localhost:8080/"
        },
        "id": "D44kNUE7RDpX",
        "outputId": "1bba5b43-8971-4ee3-d09d-ac73aab18e01"
      },
      "execution_count": null,
      "outputs": [
        {
          "output_type": "stream",
          "name": "stdout",
          "text": [
            "Training data accuracy 100.00\n",
            "Testing data accuracy 100.00\n"
          ]
        }
      ]
    },
    {
      "cell_type": "code",
      "source": [
        "# Random Forest\n",
        "from sklearn.ensemble import RandomForestClassifier\n",
        "random_forest = RandomForestClassifier()\n",
        "random_forest.fit(x_train_std, y_train)\n",
        "print('Training data accuracy {:.2f}'.format(random_forest.score(x_train_std, y_train)*100))\n",
        "print('Testing data accuracy {:.2f}'.format(random_forest.score(x_test_std, y_test)*100))\n"
      ],
      "metadata": {
        "colab": {
          "base_uri": "https://localhost:8080/"
        },
        "id": "v8REif6_RI2e",
        "outputId": "0cba872d-0d08-401c-8177-68338b01ed0d"
      },
      "execution_count": null,
      "outputs": [
        {
          "output_type": "stream",
          "name": "stdout",
          "text": [
            "Training data accuracy 100.00\n",
            "Testing data accuracy 96.67\n"
          ]
        }
      ]
    },
    {
      "cell_type": "code",
      "source": [],
      "metadata": {
        "id": "zSkegMYNROVB"
      },
      "execution_count": null,
      "outputs": []
    }
  ]
}